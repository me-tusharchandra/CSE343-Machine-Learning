{
 "cells": [
  {
   "cell_type": "code",
   "execution_count": null,
   "metadata": {},
   "outputs": [],
   "source": [
    "#@title ML models\n",
    "\n",
    "import pandas as pd\n",
    "from sklearn.model_selection import train_test_split\n",
    "from sklearn.linear_model import LinearRegression\n",
    "from sklearn.metrics import mean_squared_error\n",
    "import joblib\n",
    "\n",
    "data = pd.read_csv('/content/drive/MyDrive/Public/HackAIthon/processedData.csv')\n",
    "\n",
    "X = data.drop(columns=['SoC [%]'])\n",
    "\n",
    "Y = data[['SoC [%]']]\n",
    "\n",
    "# Y\n",
    "\n",
    "# Splitting the data into training and testing sets\n",
    "X_train, X_test, y_train, y_test = train_test_split(X, Y, test_size=0.3, random_state=0)\n",
    "\n",
    "# Initializing the regression model\n",
    "LR = LinearRegression()\n",
    "\n",
    "# Training the model on the training data\n",
    "LR.fit(X_train, y_train)\n",
    "\n",
    "model_filename = '/content/drive/MyDrive/Public/HackAIthon/linearRegression.joblib'\n",
    "joblib.dump(LR, model_filename)\n",
    "\n",
    "# Making predictions on the test data\n",
    "predictions = LR.predict(X_test)\n",
    "\n",
    "# Calculating RMSE (Root Mean Squared Error) value for evaluation of the model\n",
    "rmse = mean_squared_error(y_test, predictions, squared=False)\n",
    "r2 = LR.score(X_test, y_test)\n",
    "accuracy = LR.score(X_test, y_test)\n",
    "print(f'Root Mean Squared Error: {rmse:.2f}')\n",
    "print(f'R2 score: {r2:.2f}')\n",
    "print(f'Accuracy: {accuracy:.2f}')\n"
   ]
  }
 ],
 "metadata": {
  "language_info": {
   "name": "python"
  },
  "orig_nbformat": 4
 },
 "nbformat": 4,
 "nbformat_minor": 2
}
